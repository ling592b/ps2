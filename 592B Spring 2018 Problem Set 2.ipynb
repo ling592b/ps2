{
 "cells": [
  {
   "cell_type": "code",
   "execution_count": 1,
   "metadata": {
    "collapsed": true
   },
   "outputs": [],
   "source": [
    "%matplotlib inline"
   ]
  },
  {
   "cell_type": "markdown",
   "metadata": {},
   "source": [
    "*(Note: `%matplotlib notebook` allows for fancier interactivity in plots than `%matplot inline`, but it seems to possibly have some bugs still so I went back to inline for now)*"
   ]
  },
  {
   "cell_type": "markdown",
   "metadata": {},
   "source": [
    "# 592B Spring 2018 Problem Set 2 due Thurs 02/08 11.59PM"
   ]
  },
  {
   "cell_type": "code",
   "execution_count": 1,
   "metadata": {
    "collapsed": true
   },
   "outputs": [],
   "source": [
    "import numpy as np\n",
    "import matplotlib.pyplot as plt\n",
    "import scipy.io.wavfile as wavfile \n",
    "\n",
    "from ipywidgets import interactive\n",
    "from IPython.display import Audio, display"
   ]
  },
  {
   "cell_type": "markdown",
   "metadata": {},
   "source": [
    "The audio file in the directory that this notebook is in, `Fa50.wav`, comes from [Sameer ud Dowla Khan](http://www.reed.edu/linguistics/khan/index.html) at Reed College. It is an utterance of Bengali illustrating how Bengali intonational events chunk utterances into prosodic phrases. See page 101 of Khan's [dissertation on Bengali intonation](http://www.reed.edu/linguistics/khan/assets/Khan%202008%20disseration%20Intonational%20phonology%20and%20focus%20prosody%20of%20Bengali.pdf).\n",
    "\n",
    "Here's an annotated f0 contour of `Fa50.wav` from that page.\n",
    "![title](Fa50.png)\n",
    "\n",
    "You will be doing some work with this audio file in this problem set."
   ]
  },
  {
   "cell_type": "markdown",
   "metadata": {},
   "source": [
    "## Problem 1: converting from samples to time\n",
    "\n",
    "Write a function that:\n",
    "- plots the audio data from `t_start` to `t_stop`, with time in seconds on the x-axis\n",
    "- creates an Audio object you can play, playing the audio data from `t_start` to `t_stop`.\n",
    "- if you like, you can generate an interactive \"widget\" like we saw in the Class 2.2 notebook, where you can manipulate sliders and then see the plot and have the audio change.\n",
    "\n",
    "You can take a look at the sample code for converting from samples to time in Class 2.2's notebook, but remember that there are problems with that code. You can do way better!"
   ]
  },
  {
   "cell_type": "markdown",
   "metadata": {
    "collapsed": true
   },
   "source": [
    "## Problem 2: resampling audio data and writing it to file\n",
    "\n",
    "The purpose of this problem is to:\n",
    "- introduce you to [`scipy.signal`](https://docs.scipy.org/doc/scipy/reference/signal.html), which we will be continuing to use during the course.\n",
    "- have you figure out how to write data to audio files\n",
    "- give you experience with figuring out how to use unfamiliar functions own your own\n",
    "- get you thinking more about the effect of sampling rates on representing signals\n",
    "\n",
    "\n",
    "\n",
    "1. Resample the bengali audio data using `scipy.signal.resample`, plot the resampled data, and also create a playable Audio object of the resampled data. Do this for two sampling rates: two times the original sampling rate of the file, and half of the original sampling rate of the file. Note: you may need to use `round()` and `int()` to coerce the number of samples to be an integer.\n",
    "2. Try to explain why the audio sounds the way it does for the upsampled and downsampled audio.\n",
    "3. Write the re-sampled audio to WAV files in the current directory using `scipy.io.wavfile.write`.\n",
    "4. Use `scipy.io.wavfile.read` to read in your re-sampled files and check that the sampling rate is what you expect.\n",
    "\n",
    "\n",
    "\n",
    "\n",
    "\n"
   ]
  },
  {
   "cell_type": "markdown",
   "metadata": {},
   "source": [
    "## Problem 3: Fourier series of a square wave\n",
    "\n",
    "### Define a square wave.\n",
    "1. Define a function for a [square wave](http://mathworld.wolfram.com/SquareWave.html) with a period of 1, with y = 1 from x = 0 to 0.5, and y = 0 from x = 0.5 to 1. You might see if there are any functions in `scipy.signal` that could help.\n",
    "2. Make a plot of your square wave showing 5 periods.\n",
    "\n",
    "### Reconstruct the square wave using a Fourier series.\n",
    "1. Calculate the Fourier coefficients for a square wave.  Note: there are an infinite number of\n",
    "coefficients, so just calculate the first six. Try to find a\n",
    "pattern for the coefficient values of the infinite series.\n",
    "2. Plot the individual Fourier series terms, i.e., make plots of each of the following:\n",
    "\\begin{align}\n",
    "      a_0\\\\\n",
    "      a_1\\cos(2\\pi nt) + b_1\\sin(2\\pi nt)\\\\\n",
    "      a_2\\cos(2\\pi nt) + b_2\\sin(2\\pi nt)\\\\\n",
    "      a_3\\cos(2\\pi nt) + b_3\\sin(2\\pi nt)\\\\\n",
    "      a_4\\cos(2\\pi nt) + b_4\\sin(2\\pi nt)\\\\\n",
    "      a_5\\cos(2\\pi nt) + b_5\\sin(2\\pi nt)\n",
    "\\end{align}\n",
    "\n",
    "3. Plot the reconstruction of the square wave as you add in successive terms in the Fourier series, i.e., make plots of each of the following (I am subsuming $a_0$ as a term in the sum by having the sum start from $n=0$):\n",
    "\n",
    "\\begin{align}\n",
    "      \\displaystyle\\sum\\limits_{n=0}^0 \\left(a_n\\cos(2\\pi nt) + b_n\\sin(2\\pi nt)\\right)\\\\\n",
    "       \\displaystyle\\sum\\limits_{n=0}^1 \\left(a_n\\cos(2\\pi nt) + b_n\\sin(2\\pi nt)\\right)\\\\\n",
    "        \\displaystyle\\sum\\limits_{n=0}^2 \\left(a_n\\cos(2\\pi nt) + b_n\\sin(2\\pi nt)\\right)\\\\\n",
    "         \\displaystyle\\sum\\limits_{n=0}^3 \\left(a_n\\cos(2\\pi nt) + b_n\\sin(2\\pi nt)\\right)\\\\\n",
    "          \\displaystyle\\sum\\limits_{n=0}^4 \\left(a_n\\cos(2\\pi nt) + b_n\\sin(2\\pi nt)\\right)\\\\\n",
    "           \\displaystyle\\sum\\limits_{n=0}^5 \\left(a_n\\cos(2\\pi nt) + b_n\\sin(2\\pi nt)\\right)\\\\\n",
    "\\end{align}\n"
   ]
  }
 ],
 "metadata": {
  "kernelspec": {
   "display_name": "Python 3",
   "language": "python",
   "name": "python3"
  },
  "language_info": {
   "codemirror_mode": {
    "name": "ipython",
    "version": 3
   },
   "file_extension": ".py",
   "mimetype": "text/x-python",
   "name": "python",
   "nbconvert_exporter": "python",
   "pygments_lexer": "ipython3",
   "version": "3.6.3"
  }
 },
 "nbformat": 4,
 "nbformat_minor": 2
}
